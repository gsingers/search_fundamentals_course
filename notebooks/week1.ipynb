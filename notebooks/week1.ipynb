{
 "cells": [
  {
   "cell_type": "markdown",
   "id": "e905f538-6df5-4f4d-a831-28cfd862e967",
   "metadata": {},
   "source": [
    "# Week 1: OpenSearch Revisted\n",
    "\n",
    "walkthrough from week1"
   ]
  },
  {
   "cell_type": "code",
   "execution_count": 1,
   "id": "eedd7b7d-dda6-4bac-bd86-28aa1b848fa3",
   "metadata": {},
   "outputs": [],
   "source": [
    "from opensearchpy import OpenSearch"
   ]
  },
  {
   "cell_type": "code",
   "execution_count": 2,
   "id": "bda46510-201a-4a7b-bc58-fe5c42575a3b",
   "metadata": {},
   "outputs": [],
   "source": [
    "host = 'localhost'\n",
    "port = 9200\n",
    "auth = ('admin', 'admin')"
   ]
  },
  {
   "cell_type": "code",
   "execution_count": 5,
   "id": "2adca077-6d87-4d0d-a52a-13b57f673b3a",
   "metadata": {},
   "outputs": [
    {
     "data": {
      "text/plain": [
       "'1665358539 23:35:39 docker-cluster red 1 1 true 10 10 0 1 7 0 - 55.6%\\n'"
      ]
     },
     "execution_count": 5,
     "metadata": {},
     "output_type": "execute_result"
    }
   ],
   "source": [
    "client = OpenSearch(\n",
    "    hosts=[{'host': host, 'port': port}],\n",
    "    http_compress=True,  # enables gzip compression for request bodies\n",
    "    http_auth=auth,\n",
    "    # client_cert = client_cert_path,\n",
    "    # client_key = client_key_path,\n",
    "    use_ssl=False,\n",
    "    verify_certs=False,\n",
    "    ssl_assert_hostname=False,\n",
    "    ssl_show_warn=False,\n",
    ")\n",
    "\n",
    "client.cat.health()"
   ]
  },
  {
   "cell_type": "code",
   "execution_count": 6,
   "id": "3634720f-0725-4bba-95d1-2c1bc636e20f",
   "metadata": {},
   "outputs": [
    {
     "data": {
      "text/plain": [
       "'yellow open security-auditlog-2022.10.09              Eit_wMwaQRyOIb-DIiqk1A 1 1   307 0 411.2kb 411.2kb\\nyellow open search_fun_bulk                           UIGKJqTQSZe2dSuSToVbFg 1 1     4 0   8.7kb   8.7kb\\ngreen  open .kibana_92668751_admin_1                  PvTMugZRRg-DTF0k8sVnBw 1 0     1 0   5.1kb   5.1kb\\nyellow open search_fun_revisited_custom_mappings      82pgK1jGSMy_bz282BS_9Q 1 1     0 0    208b    208b\\ngreen  open opensearch_dashboards_sample_data_flights y8mZJN5YSE2jFQz2LDGqCA 1 0 13059 0   5.9mb   5.9mb\\nyellow open bbuy_queries                              i7TOitB_R0SVgf4--lJbcw 1 1 38501 0   8.5mb   8.5mb\\nred    open bbuy_products                             GnEYQmTnSv6Xyh_mnp_q2A 1 1                        \\nyellow open search_fun_test                           GAoh6hy4RTivKo5m2UcoIQ 1 1     4 1   7.4kb   7.4kb\\ngreen  open .opendistro_security                      fdmbnX58RVWd5Q9HCzsKAw 1 0    10 0  69.2kb  69.2kb\\ngreen  open .kibana_1                                 dK-tdTPTQtuPkWXF5kmQPA 1 0    60 0  41.1kb  41.1kb\\nyellow open search_fun_revisited                      U28qtfPTT56SEVM8JilMnQ 1 1     4 0    28kb    28kb\\n'"
      ]
     },
     "execution_count": 6,
     "metadata": {},
     "output_type": "execute_result"
    }
   ],
   "source": [
    "client.cat.indices()"
   ]
  },
  {
   "cell_type": "code",
   "execution_count": 7,
   "id": "4f882c44-9474-46c1-bb35-68e51405d612",
   "metadata": {},
   "outputs": [
    {
     "data": {
      "text/plain": [
       "'epoch      timestamp count\\n1665358542 23:35:42  4\\n'"
      ]
     },
     "execution_count": 7,
     "metadata": {},
     "output_type": "execute_result"
    }
   ],
   "source": [
    "client.cat.count(\"search_fun_test\", params={\"v\": \"true\"})"
   ]
  },
  {
   "cell_type": "markdown",
   "id": "354b7350-350f-440f-9c1e-8c0ddda579d6",
   "metadata": {},
   "source": [
    "## Indexing"
   ]
  },
  {
   "cell_type": "code",
   "execution_count": 8,
   "id": "5696aaba-bddd-427d-b66d-ea1bada61406",
   "metadata": {},
   "outputs": [],
   "source": [
    "index_name = 'search_fun_revisited'\n",
    "index_body = {\n",
    "    'settings': {\n",
    "        'index': {\n",
    "            'query':{\n",
    "                'default_field': \"body\"\n",
    "            }\n",
    "        }\n",
    "    }\n",
    "}"
   ]
  },
  {
   "cell_type": "code",
   "execution_count": 9,
   "id": "63e65e9e-4dab-4605-b947-58f32df004c8",
   "metadata": {},
   "outputs": [
    {
     "data": {
      "text/plain": [
       "{'acknowledged': True,\n",
       " 'shards_acknowledged': True,\n",
       " 'index': 'search_fun_revisited'}"
      ]
     },
     "execution_count": 9,
     "metadata": {},
     "output_type": "execute_result"
    }
   ],
   "source": [
    "if client.indices.exists(index_name):\n",
    "    client.indices.delete(index_name)\n",
    "response = client.indices.create(index_name, body=index_body)\n",
    "response"
   ]
  },
  {
   "cell_type": "markdown",
   "id": "9dc08ffa-8e60-4120-868f-c7e3b5558bbe",
   "metadata": {},
   "source": [
    "### load data"
   ]
  },
  {
   "cell_type": "code",
   "execution_count": 10,
   "id": "a9e8cbef-18ac-499f-862b-ddca3b7fe00b",
   "metadata": {},
   "outputs": [
    {
     "name": "stdout",
     "output_type": "stream",
     "text": [
      "Indexing doc_a\n",
      "\n",
      "\tResponse:\n",
      "{'_index': 'search_fun_revisited', '_id': 'doc_a', '_version': 1, 'result': 'created', 'forced_refresh': True, '_shards': {'total': 2, 'successful': 1, 'failed': 0}, '_seq_no': 0, '_primary_term': 1}\n",
      "Indexing doc_b\n",
      "\n",
      "\tResponse:\n",
      "{'_index': 'search_fun_revisited', '_id': 'doc_b', '_version': 1, 'result': 'created', 'forced_refresh': True, '_shards': {'total': 2, 'successful': 1, 'failed': 0}, '_seq_no': 1, '_primary_term': 1}\n",
      "Indexing doc_c\n",
      "\n",
      "\tResponse:\n",
      "{'_index': 'search_fun_revisited', '_id': 'doc_c', '_version': 1, 'result': 'created', 'forced_refresh': True, '_shards': {'total': 2, 'successful': 1, 'failed': 0}, '_seq_no': 2, '_primary_term': 1}\n",
      "Indexing doc_d\n",
      "\n",
      "\tResponse:\n",
      "{'_index': 'search_fun_revisited', '_id': 'doc_d', '_version': 1, 'result': 'created', 'forced_refresh': True, '_shards': {'total': 2, 'successful': 1, 'failed': 0}, '_seq_no': 3, '_primary_term': 1}\n"
     ]
    },
    {
     "data": {
      "text/plain": [
       "'epoch      timestamp count\\n1665358546 23:35:46  4\\n'"
      ]
     },
     "execution_count": 10,
     "metadata": {},
     "output_type": "execute_result"
    }
   ],
   "source": [
    "# Add our sample document to the index.\n",
    "docs = [\n",
    "    {\n",
    "        \"id\": \"doc_a\",\n",
    "        \"title\": \"Fox and Hounds\",\n",
    "        \"body\": \"The quick red fox jumped over the lazy brown dogs.\",\n",
    "        \"price\": \"5.99\",\n",
    "        \"in_stock\": True,\n",
    "        \"category\": \"childrens\"},\n",
    "    {\n",
    "        \"id\": \"doc_b\",\n",
    "        \"title\": \"Fox wins championship\",\n",
    "        \"body\": \"Wearing all red, the Fox jumped out to a lead in the race over the Dog.\",\n",
    "        \"price\": \"15.13\",\n",
    "        \"in_stock\": True,\n",
    "        \"category\": \"sports\"},\n",
    "    {\n",
    "        \"id\": \"doc_c\",\n",
    "        \"title\": \"Lead Paint Removal\",\n",
    "        \"body\": \"All lead must be removed from the brown and red paint.\",\n",
    "        \"price\": \"150.21\",\n",
    "        \"in_stock\": False,\n",
    "        \"category\": \"instructional\"},\n",
    "    {\n",
    "        \"id\": \"doc_d\",\n",
    "        \"title\": \"The Three Little Pigs Revisted\",\n",
    "        \"price\": \"3.51\",\n",
    "        \"in_stock\": True,\n",
    "        \"body\": \"The big, bad wolf huffed and puffed and blew the house down. The end.\",\n",
    "        \"category\": \"childrens\"}\n",
    "]\n",
    "\n",
    "for doc in docs:\n",
    "    doc_id = doc[\"id\"]\n",
    "    print(\"Indexing {}\".format(doc_id))\n",
    "    response = client.index(\n",
    "        index=index_name,\n",
    "        body=doc,\n",
    "        id=doc_id,\n",
    "        refresh=True\n",
    "    )\n",
    "    print('\\n\\tResponse:')\n",
    "    print(response)\n",
    "\n",
    "# Verify they are in:\n",
    "client.cat.count(index_name, params={\"v\": \"true\"})"
   ]
  },
  {
   "cell_type": "markdown",
   "id": "7cae9b83-b983-42e1-a730-f151c03b45ef",
   "metadata": {},
   "source": [
    "### Indexing Performance: Bulk Indexing "
   ]
  },
  {
   "cell_type": "code",
   "execution_count": 11,
   "id": "fc46e2f5-8cf2-4da2-a103-7f32a60411c0",
   "metadata": {},
   "outputs": [],
   "source": [
    "from opensearchpy.helpers import bulk"
   ]
  },
  {
   "cell_type": "code",
   "execution_count": 12,
   "id": "29987990-0440-4f4d-8c37-8d7a23f4cfaa",
   "metadata": {},
   "outputs": [
    {
     "data": {
      "text/plain": [
       "{'acknowledged': True, 'shards_acknowledged': True, 'index': 'search_fun_bulk'}"
      ]
     },
     "execution_count": 12,
     "metadata": {},
     "output_type": "execute_result"
    }
   ],
   "source": [
    "index_name = 'search_fun_bulk'\n",
    "index_body = {\n",
    "    'settings': {\n",
    "        'index': {\n",
    "            'query': {\n",
    "                'default_field': \"body\"\n",
    "            }\n",
    "        }\n",
    "    }\n",
    "}\n",
    "\n",
    "if client.indices.exists(index_name):\n",
    "    client.indices.delete(index_name)\n",
    "client.indices.create(index_name, body=index_body)"
   ]
  },
  {
   "cell_type": "code",
   "execution_count": 13,
   "id": "967c8a8f-bb8a-4a55-84dd-d1028af186f8",
   "metadata": {},
   "outputs": [],
   "source": [
    "docs = [\n",
    "    {\n",
    "        \"id\": \"doc_a\",\n",
    "        '_index': index_name,\n",
    "        \"title\": \"Fox and Hounds\",\n",
    "        \"body\": \"The quick red fox jumped over the lazy brown dogs.\",\n",
    "        \"price\": \"5.99\",\n",
    "        \"in_stock\": True,\n",
    "        \"category\": \"childrens\"},\n",
    "    {\n",
    "        \"id\": \"doc_b\",\n",
    "        '_index': index_name,\n",
    "        \"title\": \"Fox wins championship\",\n",
    "        \"body\": \"Wearing all red, the Fox jumped out to a lead in the race over the Dog.\",\n",
    "        \"price\": \"15.13\",\n",
    "        \"in_stock\": True,\n",
    "        \"category\": \"sports\"},\n",
    "    {\n",
    "        \"id\": \"doc_c\",\n",
    "        '_index': index_name,\n",
    "        \"title\": \"Lead Paint Removal\",\n",
    "        \"body\": \"All lead must be removed from the brown and red paint.\",\n",
    "        \"price\": \"150.21\",\n",
    "        \"in_stock\": False,\n",
    "        \"category\": \"instructional\"},\n",
    "    {\n",
    "        \"id\": \"doc_d\",\n",
    "        '_index': index_name,\n",
    "        \"title\": \"The Three Little Pigs Revisted\",\n",
    "        \"price\": \"3.51\",\n",
    "        \"in_stock\": True,\n",
    "        \"body\": \"The big, bad wolf huffed and puffed and blew the house down. The end.\",\n",
    "        \"category\": \"childrens\"}\n",
    "]"
   ]
  },
  {
   "cell_type": "code",
   "execution_count": 14,
   "id": "3e5e944c-dc17-4e6f-9767-4eff60d91d75",
   "metadata": {},
   "outputs": [
    {
     "name": "stdout",
     "output_type": "stream",
     "text": [
      "epoch      timestamp count\n",
      "1665358548 23:35:48  0\n",
      "\n"
     ]
    }
   ],
   "source": [
    "bulk(client, docs)\n",
    "print(client.cat.count(index_name, params={\"v\": \"true\"}))"
   ]
  },
  {
   "cell_type": "markdown",
   "id": "1f267ddd-32f0-473b-a615-1b30678931b6",
   "metadata": {},
   "source": [
    "### mappings"
   ]
  },
  {
   "cell_type": "code",
   "execution_count": 15,
   "id": "efd7af9c-7a6f-4bb3-813e-a8006019d63a",
   "metadata": {},
   "outputs": [
    {
     "data": {
      "text/plain": [
       "{'search_fun_bulk': {'mappings': {'properties': {'body': {'type': 'text',\n",
       "     'fields': {'keyword': {'type': 'keyword', 'ignore_above': 256}}},\n",
       "    'category': {'type': 'text',\n",
       "     'fields': {'keyword': {'type': 'keyword', 'ignore_above': 256}}},\n",
       "    'id': {'type': 'text',\n",
       "     'fields': {'keyword': {'type': 'keyword', 'ignore_above': 256}}},\n",
       "    'in_stock': {'type': 'boolean'},\n",
       "    'price': {'type': 'text',\n",
       "     'fields': {'keyword': {'type': 'keyword', 'ignore_above': 256}}},\n",
       "    'title': {'type': 'text',\n",
       "     'fields': {'keyword': {'type': 'keyword', 'ignore_above': 256}}}}}}}"
      ]
     },
     "execution_count": 15,
     "metadata": {},
     "output_type": "execute_result"
    }
   ],
   "source": [
    "client.indices.get_mapping(index_name)"
   ]
  },
  {
   "cell_type": "code",
   "execution_count": 17,
   "id": "5af43ef8-0ac1-4484-9a90-801d2251ea7d",
   "metadata": {},
   "outputs": [
    {
     "name": "stdout",
     "output_type": "stream",
     "text": [
      "Indexing doc_a\n",
      "\n",
      "\tResponse:\n",
      "{'_index': 'search_fun_revisited_custom_mappings', '_id': 'doc_a', '_version': 1, 'result': 'created', 'forced_refresh': True, '_shards': {'total': 2, 'successful': 1, 'failed': 0}, '_seq_no': 0, '_primary_term': 1}\n",
      "Indexing doc_b\n",
      "\n",
      "\tResponse:\n",
      "{'_index': 'search_fun_revisited_custom_mappings', '_id': 'doc_b', '_version': 1, 'result': 'created', 'forced_refresh': True, '_shards': {'total': 2, 'successful': 1, 'failed': 0}, '_seq_no': 1, '_primary_term': 1}\n",
      "Indexing doc_c\n",
      "\n",
      "\tResponse:\n",
      "{'_index': 'search_fun_revisited_custom_mappings', '_id': 'doc_c', '_version': 1, 'result': 'created', 'forced_refresh': True, '_shards': {'total': 2, 'successful': 1, 'failed': 0}, '_seq_no': 2, '_primary_term': 1}\n",
      "Indexing doc_d\n",
      "\n",
      "\tResponse:\n",
      "{'_index': 'search_fun_revisited_custom_mappings', '_id': 'doc_d', '_version': 1, 'result': 'created', 'forced_refresh': True, '_shards': {'total': 2, 'successful': 1, 'failed': 0}, '_seq_no': 3, '_primary_term': 1}\n"
     ]
    }
   ],
   "source": [
    "# Redefine our docs in case they are still in scope from the bulk indexing section\n",
    "docs = [\n",
    "    {\n",
    "        \"id\": \"doc_a\",\n",
    "        \"title\": \"Fox and Hounds\",\n",
    "        \"body\": \"The quick red fox jumped over the lazy brown dogs.\",\n",
    "        \"price\": \"5.99\",\n",
    "        \"in_stock\": True,\n",
    "        \"category\": \"childrens\"},\n",
    "    {\n",
    "        \"id\": \"doc_b\",\n",
    "        \"title\": \"Fox wins championship\",\n",
    "        \"body\": \"Wearing all red, the Fox jumped out to a lead in the race over the Dog.\",\n",
    "        \"price\": \"15.13\",\n",
    "        \"in_stock\": True,\n",
    "        \"category\": \"sports\"},\n",
    "    {\n",
    "        \"id\": \"doc_c\",\n",
    "        \"title\": \"Lead Paint Removal\",\n",
    "        \"body\": \"All lead must be removed from the brown and red paint.\",\n",
    "        \"price\": \"150.21\",\n",
    "        \"in_stock\": False,\n",
    "        \"category\": \"instructional\"},\n",
    "    {\n",
    "        \"id\": \"doc_d\",\n",
    "        \"title\": \"The Three Little Pigs Revisted\",\n",
    "        \"price\": \"3.51\",\n",
    "        \"in_stock\": True,\n",
    "        \"body\": \"The big, bad wolf huffed and puffed and blew the house down. The end.\",\n",
    "        \"category\": \"childrens\"}\n",
    "]\n",
    "\n",
    "index_name = 'search_fun_revisited_custom_mappings'\n",
    "index_body = {\n",
    "    'settings': {\n",
    "        'index': {\n",
    "            'query': {\n",
    "                'default_field': \"body\"\n",
    "            }\n",
    "        }\n",
    "    },\n",
    "    \"mappings\": {\n",
    "        \"properties\": {\n",
    "            \"title\": {\"type\": \"text\", \"analyzer\": \"english\"},\n",
    "            \"body\": {\"type\": \"text\", \"analyzer\": \"english\"},\n",
    "            \"in_stock\": {\"type\": \"boolean\"},\n",
    "            \"category\": {\"type\": \"keyword\", \"ignore_above\": \"256\"},\n",
    "            \"price\": {\"type\": \"float\"}\n",
    "        }\n",
    "    }\n",
    "}\n",
    "\n",
    "if client.indices.exists(index_name):\n",
    "    client.indices.delete(index_name)\n",
    "client.indices.create(index_name, body=index_body)\n",
    "\n",
    "\n",
    "\n",
    "for doc in docs:\n",
    "    doc_id = doc[\"id\"]\n",
    "    print(\"Indexing {}\".format(doc_id))\n",
    "    response = client.index(\n",
    "        index=index_name,\n",
    "        body=doc,\n",
    "        id=doc_id,\n",
    "        refresh=True\n",
    "    )\n",
    "    print('\\n\\tResponse:')\n",
    "    print(response)"
   ]
  },
  {
   "cell_type": "markdown",
   "id": "d9e7d547-26ae-43f1-8c36-dffe16ae8922",
   "metadata": {},
   "source": [
    "## Query"
   ]
  },
  {
   "cell_type": "code",
   "execution_count": 21,
   "id": "82337828-d63b-4912-8221-4d388be31ad0",
   "metadata": {},
   "outputs": [
    {
     "data": {
      "text/plain": [
       "{'took': 36,\n",
       " 'timed_out': False,\n",
       " '_shards': {'total': 1, 'successful': 1, 'skipped': 0, 'failed': 0},\n",
       " 'hits': {'total': {'value': 2, 'relation': 'eq'},\n",
       "  'max_score': 0.71833557,\n",
       "  'hits': [{'_index': 'search_fun_revisited_custom_mappings',\n",
       "    '_id': 'doc_a',\n",
       "    '_score': 0.71833557,\n",
       "    '_source': {'id': 'doc_a',\n",
       "     'title': 'Fox and Hounds',\n",
       "     'body': 'The quick red fox jumped over the lazy brown dogs.',\n",
       "     'price': '5.99',\n",
       "     'in_stock': True,\n",
       "     'category': 'childrens'}},\n",
       "   {'_index': 'search_fun_revisited_custom_mappings',\n",
       "    '_id': 'doc_b',\n",
       "    '_score': 0.6548753,\n",
       "    '_source': {'id': 'doc_b',\n",
       "     'title': 'Fox wins championship',\n",
       "     'body': 'Wearing all red, the Fox jumped out to a lead in the race over the Dog.',\n",
       "     'price': '15.13',\n",
       "     'in_stock': True,\n",
       "     'category': 'sports'}}]}}"
      ]
     },
     "execution_count": 21,
     "metadata": {},
     "output_type": "execute_result"
    }
   ],
   "source": [
    "q = 'dogs'\n",
    "index_name = 'search_fun_revisited_custom_mappings'\n",
    "query = {\n",
    "  'size': 5,\n",
    "  'query': {\n",
    "    'multi_match': {\n",
    "      'query': q,\n",
    "      'fields': ['title^2', 'body']\n",
    "    }\n",
    "  }\n",
    "}\n",
    "\n",
    "client.search(\n",
    "    body = query,\n",
    "    index = index_name\n",
    ")"
   ]
  },
  {
   "cell_type": "code",
   "execution_count": 22,
   "id": "52e1134c-558d-46aa-bdf8-99e14dbda1b0",
   "metadata": {},
   "outputs": [
    {
     "data": {
      "text/plain": [
       "{'took': 34,\n",
       " 'timed_out': False,\n",
       " '_shards': {'total': 1, 'successful': 1, 'skipped': 0, 'failed': 0},\n",
       " 'hits': {'total': {'value': 0, 'relation': 'eq'},\n",
       "  'max_score': None,\n",
       "  'hits': []}}"
      ]
     },
     "execution_count": 22,
     "metadata": {},
     "output_type": "execute_result"
    }
   ],
   "source": [
    "q = 'fox dog'\n",
    "query = {\n",
    "  'size': 5,\n",
    "  'query': {\n",
    "    'match_phrase': {\n",
    "      'body': {\"query\": q}\n",
    "    }\n",
    "  }\n",
    "}\n",
    "\n",
    "client.search(\n",
    "    body = query,\n",
    "    index = index_name\n",
    ")"
   ]
  },
  {
   "cell_type": "code",
   "execution_count": 23,
   "id": "048f133b-0899-490e-a860-75cad4a1ed5a",
   "metadata": {},
   "outputs": [
    {
     "data": {
      "text/plain": [
       "{'took': 8,\n",
       " 'timed_out': False,\n",
       " '_shards': {'total': 1, 'successful': 1, 'skipped': 0, 'failed': 0},\n",
       " 'hits': {'total': {'value': 2, 'relation': 'eq'},\n",
       "  'max_score': 0.39418244,\n",
       "  'hits': [{'_index': 'search_fun_revisited_custom_mappings',\n",
       "    '_id': 'doc_a',\n",
       "    '_score': 0.39418244,\n",
       "    '_source': {'id': 'doc_a',\n",
       "     'title': 'Fox and Hounds',\n",
       "     'body': 'The quick red fox jumped over the lazy brown dogs.',\n",
       "     'price': '5.99',\n",
       "     'in_stock': True,\n",
       "     'category': 'childrens'}},\n",
       "   {'_index': 'search_fun_revisited_custom_mappings',\n",
       "    '_id': 'doc_b',\n",
       "    '_score': 0.19532394,\n",
       "    '_source': {'id': 'doc_b',\n",
       "     'title': 'Fox wins championship',\n",
       "     'body': 'Wearing all red, the Fox jumped out to a lead in the race over the Dog.',\n",
       "     'price': '15.13',\n",
       "     'in_stock': True,\n",
       "     'category': 'sports'}}]}}"
      ]
     },
     "execution_count": 23,
     "metadata": {},
     "output_type": "execute_result"
    }
   ],
   "source": [
    "q = 'fox dog'\n",
    "query = {\n",
    "  'size': 5,\n",
    "  'query': {\n",
    "    'match_phrase': {\n",
    "      'body': {\"query\": q, \"slop\": 10}\n",
    "    }\n",
    "  }\n",
    "}\n",
    "\n",
    "client.search(\n",
    "    body = query,\n",
    "    index = index_name\n",
    ")"
   ]
  },
  {
   "cell_type": "code",
   "execution_count": 24,
   "id": "9465c890-42ab-40d2-afb0-d44c3206d0b7",
   "metadata": {},
   "outputs": [
    {
     "data": {
      "text/plain": [
       "{'took': 214,\n",
       " 'timed_out': False,\n",
       " '_shards': {'total': 1, 'successful': 1, 'skipped': 0, 'failed': 0},\n",
       " 'hits': {'total': {'value': 2, 'relation': 'eq'},\n",
       "  'max_score': 5.99,\n",
       "  'hits': [{'_index': 'search_fun_revisited_custom_mappings',\n",
       "    '_id': 'doc_a',\n",
       "    '_score': 5.99,\n",
       "    '_source': {'id': 'doc_a',\n",
       "     'title': 'Fox and Hounds',\n",
       "     'body': 'The quick red fox jumped over the lazy brown dogs.',\n",
       "     'price': '5.99',\n",
       "     'in_stock': True,\n",
       "     'category': 'childrens'}},\n",
       "   {'_index': 'search_fun_revisited_custom_mappings',\n",
       "    '_id': 'doc_d',\n",
       "    '_score': 3.51,\n",
       "    '_source': {'id': 'doc_d',\n",
       "     'title': 'The Three Little Pigs Revisted',\n",
       "     'price': '3.51',\n",
       "     'in_stock': True,\n",
       "     'body': 'The big, bad wolf huffed and puffed and blew the house down. The end.',\n",
       "     'category': 'childrens'}}]}}"
      ]
     },
     "execution_count": 24,
     "metadata": {},
     "output_type": "execute_result"
    }
   ],
   "source": [
    "# try a match all query with a filter and a price factor\n",
    "query = {\n",
    "    'size': 5,\n",
    "    'query': {\n",
    "        \"function_score\": {\n",
    "            \"query\": {\n",
    "                \"bool\": {\n",
    "                    \"must\": [\n",
    "                        {\"match_all\": {}}\n",
    "                    ],\n",
    "                    \"filter\": [\n",
    "                        {\"term\": {\"category\": \"childrens\"}}\n",
    "                    ]\n",
    "                }\n",
    "            },\n",
    "            \"field_value_factor\": {\n",
    "                \"field\": \"price\",\n",
    "                \"missing\": 1\n",
    "            }\n",
    "        }\n",
    "    }\n",
    "}\n",
    "\n",
    "client.search(\n",
    "    body=query,\n",
    "    index=index_name\n",
    ")"
   ]
  },
  {
   "cell_type": "code",
   "execution_count": 26,
   "id": "954f7542-3dd5-4941-a14c-4215d5bc72ae",
   "metadata": {},
   "outputs": [
    {
     "data": {
      "text/plain": [
       "{'took': 114,\n",
       " 'timed_out': False,\n",
       " '_shards': {'total': 1, 'successful': 1, 'skipped': 0, 'failed': 0},\n",
       " 'hits': {'total': {'value': 4, 'relation': 'eq'},\n",
       "  'max_score': None,\n",
       "  'hits': [{'_index': 'search_fun_revisited_custom_mappings',\n",
       "    '_id': 'doc_d',\n",
       "    '_score': None,\n",
       "    '_source': {'id': 'doc_d',\n",
       "     'title': 'The Three Little Pigs Revisted',\n",
       "     'price': '3.51',\n",
       "     'in_stock': True,\n",
       "     'body': 'The big, bad wolf huffed and puffed and blew the house down. The end.',\n",
       "     'category': 'childrens'},\n",
       "    'sort': [3.51]},\n",
       "   {'_index': 'search_fun_revisited_custom_mappings',\n",
       "    '_id': 'doc_a',\n",
       "    '_score': None,\n",
       "    '_source': {'id': 'doc_a',\n",
       "     'title': 'Fox and Hounds',\n",
       "     'body': 'The quick red fox jumped over the lazy brown dogs.',\n",
       "     'price': '5.99',\n",
       "     'in_stock': True,\n",
       "     'category': 'childrens'},\n",
       "    'sort': [5.99]},\n",
       "   {'_index': 'search_fun_revisited_custom_mappings',\n",
       "    '_id': 'doc_b',\n",
       "    '_score': None,\n",
       "    '_source': {'id': 'doc_b',\n",
       "     'title': 'Fox wins championship',\n",
       "     'body': 'Wearing all red, the Fox jumped out to a lead in the race over the Dog.',\n",
       "     'price': '15.13',\n",
       "     'in_stock': True,\n",
       "     'category': 'sports'},\n",
       "    'sort': [15.13]},\n",
       "   {'_index': 'search_fun_revisited_custom_mappings',\n",
       "    '_id': 'doc_c',\n",
       "    '_score': None,\n",
       "    '_source': {'id': 'doc_c',\n",
       "     'title': 'Lead Paint Removal',\n",
       "     'body': 'All lead must be removed from the brown and red paint.',\n",
       "     'price': '150.21',\n",
       "     'in_stock': False,\n",
       "     'category': 'instructional'},\n",
       "    'sort': [150.21]}]}}"
      ]
     },
     "execution_count": 26,
     "metadata": {},
     "output_type": "execute_result"
    }
   ],
   "source": [
    "# try a match all query with a filter and a price factor\n",
    "query = {\n",
    "    \"size\": 10,\n",
    "    \"query\": {\n",
    "        \"match_all\": {}\n",
    "    },\n",
    "    \"sort\": [\n",
    "        {\n",
    "            \"price\": {\n",
    "                \"order\": \"asc\"\n",
    "            }\n",
    "        }\n",
    "    ]\n",
    "}\n",
    "\n",
    "client.search(\n",
    "    body=query,\n",
    "    index=index_name\n",
    ")"
   ]
  },
  {
   "cell_type": "markdown",
   "id": "9bd6f06b-d299-4aed-9e9c-bb8c757f97b6",
   "metadata": {},
   "source": [
    "### aggregation"
   ]
  },
  {
   "cell_type": "code",
   "execution_count": 27,
   "id": "f9334365-9433-412c-af23-9db0ee22943c",
   "metadata": {},
   "outputs": [],
   "source": [
    "import json"
   ]
  },
  {
   "cell_type": "code",
   "execution_count": 28,
   "id": "8284dd0f-a197-4f4b-8a80-dc97adf77bec",
   "metadata": {},
   "outputs": [
    {
     "name": "stdout",
     "output_type": "stream",
     "text": [
      "\n",
      "Search results:\n",
      "{\n",
      "    \"took\": 211,\n",
      "    \"timed_out\": false,\n",
      "    \"_shards\": {\n",
      "        \"total\": 1,\n",
      "        \"successful\": 1,\n",
      "        \"skipped\": 0,\n",
      "        \"failed\": 0\n",
      "    },\n",
      "    \"hits\": {\n",
      "        \"total\": {\n",
      "            \"value\": 4,\n",
      "            \"relation\": \"eq\"\n",
      "        },\n",
      "        \"max_score\": null,\n",
      "        \"hits\": []\n",
      "    },\n",
      "    \"aggregations\": {\n",
      "        \"category\": {\n",
      "            \"doc_count_error_upper_bound\": 0,\n",
      "            \"sum_other_doc_count\": 0,\n",
      "            \"buckets\": [\n",
      "                {\n",
      "                    \"key\": \"childrens\",\n",
      "                    \"doc_count\": 2\n",
      "                },\n",
      "                {\n",
      "                    \"key\": \"instructional\",\n",
      "                    \"doc_count\": 1\n",
      "                },\n",
      "                {\n",
      "                    \"key\": \"sports\",\n",
      "                    \"doc_count\": 1\n",
      "                },\n",
      "                {\n",
      "                    \"key\": \"N/A\",\n",
      "                    \"doc_count\": 0\n",
      "                }\n",
      "            ]\n",
      "        }\n",
      "    }\n",
      "}\n"
     ]
    }
   ],
   "source": [
    "query = {\n",
    "    'size': 0,\n",
    "    'query': {\n",
    "        \"match_all\": {}\n",
    "    },\n",
    "    'aggs': {\n",
    "        \"category\": {\n",
    "            \"terms\": {\n",
    "                \"field\": \"category\",\n",
    "                \"size\": 10,\n",
    "                \"missing\": \"N/A\",\n",
    "                \"min_doc_count\": 0\n",
    "            }\n",
    "        }\n",
    "    }\n",
    "}\n",
    "\n",
    "response = client.search(\n",
    "    body=query,\n",
    "    index=index_name\n",
    ")\n",
    "print('\\nSearch results:')\n",
    "print(json.dumps(response, indent=4))"
   ]
  },
  {
   "cell_type": "code",
   "execution_count": 29,
   "id": "834c603d-66af-4832-a661-8ddc95ea8c43",
   "metadata": {},
   "outputs": [
    {
     "name": "stdout",
     "output_type": "stream",
     "text": [
      "\n",
      "Search results:\n",
      "{\n",
      "    \"took\": 23,\n",
      "    \"timed_out\": false,\n",
      "    \"_shards\": {\n",
      "        \"total\": 1,\n",
      "        \"successful\": 1,\n",
      "        \"skipped\": 0,\n",
      "        \"failed\": 0\n",
      "    },\n",
      "    \"hits\": {\n",
      "        \"total\": {\n",
      "            \"value\": 4,\n",
      "            \"relation\": \"eq\"\n",
      "        },\n",
      "        \"max_score\": null,\n",
      "        \"hits\": []\n",
      "    },\n",
      "    \"aggregations\": {\n",
      "        \"price\": {\n",
      "            \"buckets\": [\n",
      "                {\n",
      "                    \"key\": \"*-5.0\",\n",
      "                    \"to\": 5.0,\n",
      "                    \"doc_count\": 1\n",
      "                },\n",
      "                {\n",
      "                    \"key\": \"5.0-20.0\",\n",
      "                    \"from\": 5.0,\n",
      "                    \"to\": 20.0,\n",
      "                    \"doc_count\": 2\n",
      "                },\n",
      "                {\n",
      "                    \"key\": \"20.0-*\",\n",
      "                    \"from\": 20.0,\n",
      "                    \"doc_count\": 1\n",
      "                }\n",
      "            ]\n",
      "        }\n",
      "    }\n",
      "}\n"
     ]
    }
   ],
   "source": [
    "query = {\n",
    "    'size': 0,\n",
    "    'query': {\n",
    "        \"match_all\": {}\n",
    "    },\n",
    "    'aggs': {\n",
    "        \"price\": {\n",
    "            \"range\": {\n",
    "                \"field\": \"price\",\n",
    "                \"ranges\": [\n",
    "                    {\n",
    "                        \"to\": 5\n",
    "                    },\n",
    "                    {\n",
    "                        \"from\": 5,\n",
    "                        \"to\": 20\n",
    "                    },\n",
    "                    {\n",
    "                        \"from\": 20,\n",
    "                    }\n",
    "                ]\n",
    "            }\n",
    "        }\n",
    "    }\n",
    "}\n",
    "\n",
    "response = client.search(\n",
    "body = query,\n",
    "index = index_name\n",
    ")\n",
    "print('\\nSearch results:')\n",
    "print(json.dumps(response, indent=4))"
   ]
  },
  {
   "cell_type": "code",
   "execution_count": null,
   "id": "26e25ebc-15dd-403f-8fa5-a6e0020a889a",
   "metadata": {},
   "outputs": [],
   "source": []
  }
 ],
 "metadata": {
  "kernelspec": {
   "display_name": "Python 3 (ipykernel)",
   "language": "python",
   "name": "python3"
  },
  "language_info": {
   "codemirror_mode": {
    "name": "ipython",
    "version": 3
   },
   "file_extension": ".py",
   "mimetype": "text/x-python",
   "name": "python",
   "nbconvert_exporter": "python",
   "pygments_lexer": "ipython3",
   "version": "3.9.13"
  }
 },
 "nbformat": 4,
 "nbformat_minor": 5
}
