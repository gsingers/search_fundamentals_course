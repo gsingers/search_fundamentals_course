{
 "cells": [
  {
   "cell_type": "markdown",
   "id": "e905f538-6df5-4f4d-a831-28cfd862e967",
   "metadata": {},
   "source": [
    "# Week 2: project \n"
   ]
  },
  {
   "cell_type": "code",
   "execution_count": 1,
   "id": "eedd7b7d-dda6-4bac-bd86-28aa1b848fa3",
   "metadata": {},
   "outputs": [],
   "source": [
    "from opensearchpy import OpenSearch"
   ]
  },
  {
   "cell_type": "code",
   "execution_count": 2,
   "id": "bda46510-201a-4a7b-bc58-fe5c42575a3b",
   "metadata": {},
   "outputs": [],
   "source": [
    "host = 'localhost'\n",
    "port = 9200\n",
    "auth = ('admin', 'admin')"
   ]
  },
  {
   "cell_type": "code",
   "execution_count": 3,
   "id": "2adca077-6d87-4d0d-a52a-13b57f673b3a",
   "metadata": {},
   "outputs": [
    {
     "data": {
      "text/plain": [
       "'1665951061 20:11:01 docker-cluster yellow 1 1 true 3 3 0 0 2 0 - 60.0%\\n'"
      ]
     },
     "execution_count": 3,
     "metadata": {},
     "output_type": "execute_result"
    }
   ],
   "source": [
    "client = OpenSearch(\n",
    "    hosts=[{'host': host, 'port': port}],\n",
    "    http_compress=True,  # enables gzip compression for request bodies\n",
    "    http_auth=auth,\n",
    "    # client_cert = client_cert_path,\n",
    "    # client_key = client_key_path,\n",
    "    use_ssl=False,\n",
    "    verify_certs=False,\n",
    "    ssl_assert_hostname=False,\n",
    "    ssl_show_warn=False,\n",
    ")\n",
    "\n",
    "client.cat.health()"
   ]
  },
  {
   "cell_type": "code",
   "execution_count": 4,
   "id": "3634720f-0725-4bba-95d1-2c1bc636e20f",
   "metadata": {},
   "outputs": [
    {
     "data": {
      "text/plain": [
       "'yellow open bbuy_products QjheqkOBSpC7fdz3ub-kBw 1 1 1275077 0  1.3gb  1.3gb\\nyellow open bbuy_queries  u9lHWLnhRp-2fmwpAMruKg 1 1  200792 0 62.6mb 62.6mb\\ngreen  open .kibana_1     SiUuHDMJTbeYKByfMtMFJQ 1 0       1 0  5.1kb  5.1kb\\n'"
      ]
     },
     "execution_count": 4,
     "metadata": {},
     "output_type": "execute_result"
    }
   ],
   "source": [
    "client.cat.indices()"
   ]
  },
  {
   "cell_type": "code",
   "execution_count": 7,
   "id": "4f882c44-9474-46c1-bb35-68e51405d612",
   "metadata": {},
   "outputs": [
    {
     "data": {
      "text/plain": [
       "'epoch      timestamp count\\n1665951080 20:11:20  1275077\\n'"
      ]
     },
     "execution_count": 7,
     "metadata": {},
     "output_type": "execute_result"
    }
   ],
   "source": [
    "client.cat.count(\"bbuy_products\", params={\"v\": \"true\"})"
   ]
  },
  {
   "cell_type": "markdown",
   "id": "2dbee0ed-c3d9-42eb-be07-bb428067c102",
   "metadata": {},
   "source": [
    "## prior query data"
   ]
  },
  {
   "cell_type": "code",
   "execution_count": 10,
   "id": "012da424-baf2-4c12-89d4-d14b3ae875a0",
   "metadata": {},
   "outputs": [],
   "source": [
    "import pandas as pd"
   ]
  },
  {
   "cell_type": "code",
   "execution_count": 11,
   "id": "edab3cf7-4bf5-4f6e-8fa3-4568be5dfd43",
   "metadata": {},
   "outputs": [
    {
     "data": {
      "text/html": [
       "<div>\n",
       "<style scoped>\n",
       "    .dataframe tbody tr th:only-of-type {\n",
       "        vertical-align: middle;\n",
       "    }\n",
       "\n",
       "    .dataframe tbody tr th {\n",
       "        vertical-align: top;\n",
       "    }\n",
       "\n",
       "    .dataframe thead th {\n",
       "        text-align: right;\n",
       "    }\n",
       "</style>\n",
       "<table border=\"1\" class=\"dataframe\">\n",
       "  <thead>\n",
       "    <tr style=\"text-align: right;\">\n",
       "      <th></th>\n",
       "      <th>user</th>\n",
       "      <th>sku</th>\n",
       "      <th>category</th>\n",
       "      <th>query</th>\n",
       "      <th>click_time</th>\n",
       "      <th>query_time</th>\n",
       "    </tr>\n",
       "  </thead>\n",
       "  <tbody>\n",
       "    <tr>\n",
       "      <th>0</th>\n",
       "      <td>000000df17cd56a5df4a94074e133c9d4739fae3</td>\n",
       "      <td>2125233</td>\n",
       "      <td>abcat0101001</td>\n",
       "      <td>Televisiones Panasonic  50 pulgadas</td>\n",
       "      <td>2011-09-01 23:44:52.533</td>\n",
       "      <td>2011-09-01 23:43:59.752</td>\n",
       "    </tr>\n",
       "    <tr>\n",
       "      <th>1</th>\n",
       "      <td>000001928162247ffaf63185cd8b2a244c78e7c6</td>\n",
       "      <td>2009324</td>\n",
       "      <td>abcat0101001</td>\n",
       "      <td>Sharp</td>\n",
       "      <td>2011-09-05 12:25:37.42</td>\n",
       "      <td>2011-09-05 12:25:01.187</td>\n",
       "    </tr>\n",
       "    <tr>\n",
       "      <th>2</th>\n",
       "      <td>000017f79c2b5da56721f22f9fdd726b13daf8e8</td>\n",
       "      <td>1517163</td>\n",
       "      <td>pcmcat193100050014</td>\n",
       "      <td>nook</td>\n",
       "      <td>2011-08-24 12:56:58.91</td>\n",
       "      <td>2011-08-24 12:55:13.012</td>\n",
       "    </tr>\n",
       "    <tr>\n",
       "      <th>3</th>\n",
       "      <td>000017f79c2b5da56721f22f9fdd726b13daf8e8</td>\n",
       "      <td>2877125</td>\n",
       "      <td>abcat0101001</td>\n",
       "      <td>rca</td>\n",
       "      <td>2011-10-25 07:18:14.722</td>\n",
       "      <td>2011-10-25 07:16:51.759</td>\n",
       "    </tr>\n",
       "    <tr>\n",
       "      <th>4</th>\n",
       "      <td>000017f79c2b5da56721f22f9fdd726b13daf8e8</td>\n",
       "      <td>2877134</td>\n",
       "      <td>abcat0101005</td>\n",
       "      <td>rca</td>\n",
       "      <td>2011-10-25 07:19:51.697</td>\n",
       "      <td>2011-10-25 07:16:51.759</td>\n",
       "    </tr>\n",
       "  </tbody>\n",
       "</table>\n",
       "</div>"
      ],
      "text/plain": [
       "                                       user      sku            category  \\\n",
       "0  000000df17cd56a5df4a94074e133c9d4739fae3  2125233        abcat0101001   \n",
       "1  000001928162247ffaf63185cd8b2a244c78e7c6  2009324        abcat0101001   \n",
       "2  000017f79c2b5da56721f22f9fdd726b13daf8e8  1517163  pcmcat193100050014   \n",
       "3  000017f79c2b5da56721f22f9fdd726b13daf8e8  2877125        abcat0101001   \n",
       "4  000017f79c2b5da56721f22f9fdd726b13daf8e8  2877134        abcat0101005   \n",
       "\n",
       "                                 query               click_time  \\\n",
       "0  Televisiones Panasonic  50 pulgadas  2011-09-01 23:44:52.533   \n",
       "1                                Sharp   2011-09-05 12:25:37.42   \n",
       "2                                 nook   2011-08-24 12:56:58.91   \n",
       "3                                  rca  2011-10-25 07:18:14.722   \n",
       "4                                  rca  2011-10-25 07:19:51.697   \n",
       "\n",
       "                query_time  \n",
       "0  2011-09-01 23:43:59.752  \n",
       "1  2011-09-05 12:25:01.187  \n",
       "2  2011-08-24 12:55:13.012  \n",
       "3  2011-10-25 07:16:51.759  \n",
       "4  2011-10-25 07:16:51.759  "
      ]
     },
     "execution_count": 11,
     "metadata": {},
     "output_type": "execute_result"
    }
   ],
   "source": [
    "priors = pd.read_csv(f'{os.getenv(\"PROJECT_DIR\")}/datasets/train.csv')\n",
    "priors.head()"
   ]
  },
  {
   "cell_type": "code",
   "execution_count": 12,
   "id": "24d8dd01-9403-4dc3-a68a-c4c51606f2bc",
   "metadata": {},
   "outputs": [
    {
     "data": {
      "text/html": [
       "<div>\n",
       "<style scoped>\n",
       "    .dataframe tbody tr th:only-of-type {\n",
       "        vertical-align: middle;\n",
       "    }\n",
       "\n",
       "    .dataframe tbody tr th {\n",
       "        vertical-align: top;\n",
       "    }\n",
       "\n",
       "    .dataframe thead th {\n",
       "        text-align: right;\n",
       "    }\n",
       "</style>\n",
       "<table border=\"1\" class=\"dataframe\">\n",
       "  <thead>\n",
       "    <tr style=\"text-align: right;\">\n",
       "      <th></th>\n",
       "      <th>user</th>\n",
       "      <th>sku</th>\n",
       "      <th>category</th>\n",
       "      <th>query</th>\n",
       "      <th>click_time</th>\n",
       "      <th>query_time</th>\n",
       "    </tr>\n",
       "  </thead>\n",
       "  <tbody>\n",
       "    <tr>\n",
       "      <th>0</th>\n",
       "      <td>000000df17cd56a5df4a94074e133c9d4739fae3</td>\n",
       "      <td>2125233</td>\n",
       "      <td>abcat0101001</td>\n",
       "      <td>Televisiones Panasonic  50 pulgadas</td>\n",
       "      <td>2011-09-01 23:44:52.533</td>\n",
       "      <td>2011-09-01 23:43:59.752</td>\n",
       "    </tr>\n",
       "    <tr>\n",
       "      <th>1</th>\n",
       "      <td>000001928162247ffaf63185cd8b2a244c78e7c6</td>\n",
       "      <td>2009324</td>\n",
       "      <td>abcat0101001</td>\n",
       "      <td>Sharp</td>\n",
       "      <td>2011-09-05 12:25:37.42</td>\n",
       "      <td>2011-09-05 12:25:01.187</td>\n",
       "    </tr>\n",
       "    <tr>\n",
       "      <th>2</th>\n",
       "      <td>000017f79c2b5da56721f22f9fdd726b13daf8e8</td>\n",
       "      <td>1517163</td>\n",
       "      <td>pcmcat193100050014</td>\n",
       "      <td>nook</td>\n",
       "      <td>2011-08-24 12:56:58.91</td>\n",
       "      <td>2011-08-24 12:55:13.012</td>\n",
       "    </tr>\n",
       "    <tr>\n",
       "      <th>3</th>\n",
       "      <td>000017f79c2b5da56721f22f9fdd726b13daf8e8</td>\n",
       "      <td>2877125</td>\n",
       "      <td>abcat0101001</td>\n",
       "      <td>rca</td>\n",
       "      <td>2011-10-25 07:18:14.722</td>\n",
       "      <td>2011-10-25 07:16:51.759</td>\n",
       "    </tr>\n",
       "    <tr>\n",
       "      <th>4</th>\n",
       "      <td>000017f79c2b5da56721f22f9fdd726b13daf8e8</td>\n",
       "      <td>2877134</td>\n",
       "      <td>abcat0101005</td>\n",
       "      <td>rca</td>\n",
       "      <td>2011-10-25 07:19:51.697</td>\n",
       "      <td>2011-10-25 07:16:51.759</td>\n",
       "    </tr>\n",
       "    <tr>\n",
       "      <th>...</th>\n",
       "      <td>...</td>\n",
       "      <td>...</td>\n",
       "      <td>...</td>\n",
       "      <td>...</td>\n",
       "      <td>...</td>\n",
       "      <td>...</td>\n",
       "    </tr>\n",
       "    <tr>\n",
       "      <th>1865228</th>\n",
       "      <td>fffd7c957f43567ebc6f50f8cf84b172b70867a2</td>\n",
       "      <td>9225377</td>\n",
       "      <td>abcat0201011</td>\n",
       "      <td>iPod apple</td>\n",
       "      <td>2011-10-15 19:20:00.071</td>\n",
       "      <td>2011-10-15 19:19:52.526</td>\n",
       "    </tr>\n",
       "    <tr>\n",
       "      <th>1865230</th>\n",
       "      <td>fffda9420bdad54915055a05f7e6b128a5a0b0d9</td>\n",
       "      <td>9448056</td>\n",
       "      <td>cat02015</td>\n",
       "      <td>tv series the unit</td>\n",
       "      <td>2011-10-26 20:16:45.005</td>\n",
       "      <td>2011-10-26 20:16:26.357</td>\n",
       "    </tr>\n",
       "    <tr>\n",
       "      <th>1865244</th>\n",
       "      <td>fffe3e08fec77102c978ff24552d4f66abdb30a5</td>\n",
       "      <td>8206078</td>\n",
       "      <td>abcat0503013</td>\n",
       "      <td>dsl wireless router</td>\n",
       "      <td>2011-09-26 19:09:46.108</td>\n",
       "      <td>2011-09-26 19:09:14.824</td>\n",
       "    </tr>\n",
       "    <tr>\n",
       "      <th>1865261</th>\n",
       "      <td>ffff85475a3a4c4f15e9dddcb9b83a4091991ace</td>\n",
       "      <td>2969617</td>\n",
       "      <td>cat02015</td>\n",
       "      <td>Breakfast at tiffanys blu</td>\n",
       "      <td>2011-09-26 22:04:30.39</td>\n",
       "      <td>2011-09-26 22:03:56.127</td>\n",
       "    </tr>\n",
       "    <tr>\n",
       "      <th>1865264</th>\n",
       "      <td>ffffbcfcee8ff636231fa0df557528e6fa2ecdba</td>\n",
       "      <td>3674224</td>\n",
       "      <td>pcmcat247400050000</td>\n",
       "      <td>ttv</td>\n",
       "      <td>2011-10-28 07:30:33.921</td>\n",
       "      <td>2011-10-28 07:27:05.039</td>\n",
       "    </tr>\n",
       "  </tbody>\n",
       "</table>\n",
       "<p>470065 rows × 6 columns</p>\n",
       "</div>"
      ],
      "text/plain": [
       "                                             user      sku  \\\n",
       "0        000000df17cd56a5df4a94074e133c9d4739fae3  2125233   \n",
       "1        000001928162247ffaf63185cd8b2a244c78e7c6  2009324   \n",
       "2        000017f79c2b5da56721f22f9fdd726b13daf8e8  1517163   \n",
       "3        000017f79c2b5da56721f22f9fdd726b13daf8e8  2877125   \n",
       "4        000017f79c2b5da56721f22f9fdd726b13daf8e8  2877134   \n",
       "...                                           ...      ...   \n",
       "1865228  fffd7c957f43567ebc6f50f8cf84b172b70867a2  9225377   \n",
       "1865230  fffda9420bdad54915055a05f7e6b128a5a0b0d9  9448056   \n",
       "1865244  fffe3e08fec77102c978ff24552d4f66abdb30a5  8206078   \n",
       "1865261  ffff85475a3a4c4f15e9dddcb9b83a4091991ace  2969617   \n",
       "1865264  ffffbcfcee8ff636231fa0df557528e6fa2ecdba  3674224   \n",
       "\n",
       "                   category                                query  \\\n",
       "0              abcat0101001  Televisiones Panasonic  50 pulgadas   \n",
       "1              abcat0101001                                Sharp   \n",
       "2        pcmcat193100050014                                 nook   \n",
       "3              abcat0101001                                  rca   \n",
       "4              abcat0101005                                  rca   \n",
       "...                     ...                                  ...   \n",
       "1865228        abcat0201011                           iPod apple   \n",
       "1865230            cat02015                   tv series the unit   \n",
       "1865244        abcat0503013                  dsl wireless router   \n",
       "1865261            cat02015            Breakfast at tiffanys blu   \n",
       "1865264  pcmcat247400050000                                  ttv   \n",
       "\n",
       "                      click_time               query_time  \n",
       "0        2011-09-01 23:44:52.533  2011-09-01 23:43:59.752  \n",
       "1         2011-09-05 12:25:37.42  2011-09-05 12:25:01.187  \n",
       "2         2011-08-24 12:56:58.91  2011-08-24 12:55:13.012  \n",
       "3        2011-10-25 07:18:14.722  2011-10-25 07:16:51.759  \n",
       "4        2011-10-25 07:19:51.697  2011-10-25 07:16:51.759  \n",
       "...                          ...                      ...  \n",
       "1865228  2011-10-15 19:20:00.071  2011-10-15 19:19:52.526  \n",
       "1865230  2011-10-26 20:16:45.005  2011-10-26 20:16:26.357  \n",
       "1865244  2011-09-26 19:09:46.108  2011-09-26 19:09:14.824  \n",
       "1865261   2011-09-26 22:04:30.39  2011-09-26 22:03:56.127  \n",
       "1865264  2011-10-28 07:30:33.921  2011-10-28 07:27:05.039  \n",
       "\n",
       "[470065 rows x 6 columns]"
      ]
     },
     "execution_count": 12,
     "metadata": {},
     "output_type": "execute_result"
    }
   ],
   "source": [
    "priors_gb = priors.groupby(\"query\")\n",
    "priors_gb.head()"
   ]
  },
  {
   "cell_type": "code",
   "execution_count": 13,
   "id": "2a571988-7461-477a-9f99-33d5d52ae72f",
   "metadata": {},
   "outputs": [
    {
     "data": {
      "text/plain": [
       "'iphone4'"
      ]
     },
     "execution_count": 13,
     "metadata": {},
     "output_type": "execute_result"
    }
   ],
   "source": [
    "user_query = 'iphone4'\n",
    "user_query"
   ]
  },
  {
   "cell_type": "code",
   "execution_count": 14,
   "id": "52e66cbc-23ce-4da2-b3c7-7d5bca05fb24",
   "metadata": {},
   "outputs": [
    {
     "data": {
      "text/html": [
       "<div>\n",
       "<style scoped>\n",
       "    .dataframe tbody tr th:only-of-type {\n",
       "        vertical-align: middle;\n",
       "    }\n",
       "\n",
       "    .dataframe tbody tr th {\n",
       "        vertical-align: top;\n",
       "    }\n",
       "\n",
       "    .dataframe thead th {\n",
       "        text-align: right;\n",
       "    }\n",
       "</style>\n",
       "<table border=\"1\" class=\"dataframe\">\n",
       "  <thead>\n",
       "    <tr style=\"text-align: right;\">\n",
       "      <th></th>\n",
       "      <th>user</th>\n",
       "      <th>sku</th>\n",
       "      <th>category</th>\n",
       "      <th>query</th>\n",
       "      <th>click_time</th>\n",
       "      <th>query_time</th>\n",
       "    </tr>\n",
       "  </thead>\n",
       "  <tbody>\n",
       "    <tr>\n",
       "      <th>2625</th>\n",
       "      <td>005761299ea7381139b18b9b814cf394e1a83153</td>\n",
       "      <td>1049236</td>\n",
       "      <td>pcmcat209400050001</td>\n",
       "      <td>iphone4</td>\n",
       "      <td>2011-10-10 10:06:15.585</td>\n",
       "      <td>2011-10-10 10:05:29.338</td>\n",
       "    </tr>\n",
       "    <tr>\n",
       "      <th>7077</th>\n",
       "      <td>00f0526a6aaacc1476ffbab41870805c6db8d3cd</td>\n",
       "      <td>1049236</td>\n",
       "      <td>pcmcat209400050001</td>\n",
       "      <td>iphone4</td>\n",
       "      <td>2011-09-18 12:52:22.722</td>\n",
       "      <td>2011-09-18 12:50:53.253</td>\n",
       "    </tr>\n",
       "    <tr>\n",
       "      <th>53524</th>\n",
       "      <td>075c3853b5b19d1366160d9a5299308afa83d3e4</td>\n",
       "      <td>2730196</td>\n",
       "      <td>pcmcat156400050037</td>\n",
       "      <td>iphone4</td>\n",
       "      <td>2011-09-14 11:44:31.823</td>\n",
       "      <td>2011-09-14 11:42:36.17</td>\n",
       "    </tr>\n",
       "    <tr>\n",
       "      <th>73846</th>\n",
       "      <td>0a2a9e1a7563b142a3c40e6404572490d49476df</td>\n",
       "      <td>1049078</td>\n",
       "      <td>pcmcat209400050001</td>\n",
       "      <td>iphone4</td>\n",
       "      <td>2011-09-23 21:16:35.857</td>\n",
       "      <td>2011-09-23 21:15:29.667</td>\n",
       "    </tr>\n",
       "    <tr>\n",
       "      <th>114337</th>\n",
       "      <td>0fc1cd6a10fe6eee825f6fda14a8f3d0b3ce2c39</td>\n",
       "      <td>3487648</td>\n",
       "      <td>pcmcat209400050001</td>\n",
       "      <td>iphone4</td>\n",
       "      <td>2011-10-19 08:43:38.741</td>\n",
       "      <td>2011-10-19 08:42:17.457</td>\n",
       "    </tr>\n",
       "    <tr>\n",
       "      <th>...</th>\n",
       "      <td>...</td>\n",
       "      <td>...</td>\n",
       "      <td>...</td>\n",
       "      <td>...</td>\n",
       "      <td>...</td>\n",
       "      <td>...</td>\n",
       "    </tr>\n",
       "    <tr>\n",
       "      <th>1753384</th>\n",
       "      <td>f07f12f42156f9c7bad442b5a5acdd4bc255ed63</td>\n",
       "      <td>1049236</td>\n",
       "      <td>pcmcat209400050001</td>\n",
       "      <td>iphone4</td>\n",
       "      <td>2011-10-04 20:20:38.061</td>\n",
       "      <td>2011-10-04 20:19:46.191</td>\n",
       "    </tr>\n",
       "    <tr>\n",
       "      <th>1770534</th>\n",
       "      <td>f2ee4e4eb508a50c1777ab4d6f2c09769a70e187</td>\n",
       "      <td>8439852</td>\n",
       "      <td>abcat0208009</td>\n",
       "      <td>iphone4</td>\n",
       "      <td>2011-09-18 10:32:08.376</td>\n",
       "      <td>2011-09-18 10:31:29.198</td>\n",
       "    </tr>\n",
       "    <tr>\n",
       "      <th>1791255</th>\n",
       "      <td>f5cbe5abdaf7b82bd0cdf8d6f15c3da7f5217be8</td>\n",
       "      <td>1049236</td>\n",
       "      <td>pcmcat209400050001</td>\n",
       "      <td>iphone4</td>\n",
       "      <td>2011-09-18 22:43:18.338</td>\n",
       "      <td>2011-09-18 22:41:27.856</td>\n",
       "    </tr>\n",
       "    <tr>\n",
       "      <th>1828251</th>\n",
       "      <td>fae2f3f2d904b4349cdb8d956de47847c42a22d8</td>\n",
       "      <td>1049236</td>\n",
       "      <td>pcmcat209400050001</td>\n",
       "      <td>iphone4</td>\n",
       "      <td>2011-09-18 20:08:30.346</td>\n",
       "      <td>2011-09-18 20:07:19.007</td>\n",
       "    </tr>\n",
       "    <tr>\n",
       "      <th>1845736</th>\n",
       "      <td>fd50e2651c033858395590215a86bb9188e3f76a</td>\n",
       "      <td>8439852</td>\n",
       "      <td>abcat0208009</td>\n",
       "      <td>iphone4</td>\n",
       "      <td>2011-09-20 14:58:12.971</td>\n",
       "      <td>2011-09-20 14:58:01.166</td>\n",
       "    </tr>\n",
       "  </tbody>\n",
       "</table>\n",
       "<p>77 rows × 6 columns</p>\n",
       "</div>"
      ],
      "text/plain": [
       "                                             user      sku  \\\n",
       "2625     005761299ea7381139b18b9b814cf394e1a83153  1049236   \n",
       "7077     00f0526a6aaacc1476ffbab41870805c6db8d3cd  1049236   \n",
       "53524    075c3853b5b19d1366160d9a5299308afa83d3e4  2730196   \n",
       "73846    0a2a9e1a7563b142a3c40e6404572490d49476df  1049078   \n",
       "114337   0fc1cd6a10fe6eee825f6fda14a8f3d0b3ce2c39  3487648   \n",
       "...                                           ...      ...   \n",
       "1753384  f07f12f42156f9c7bad442b5a5acdd4bc255ed63  1049236   \n",
       "1770534  f2ee4e4eb508a50c1777ab4d6f2c09769a70e187  8439852   \n",
       "1791255  f5cbe5abdaf7b82bd0cdf8d6f15c3da7f5217be8  1049236   \n",
       "1828251  fae2f3f2d904b4349cdb8d956de47847c42a22d8  1049236   \n",
       "1845736  fd50e2651c033858395590215a86bb9188e3f76a  8439852   \n",
       "\n",
       "                   category    query               click_time  \\\n",
       "2625     pcmcat209400050001  iphone4  2011-10-10 10:06:15.585   \n",
       "7077     pcmcat209400050001  iphone4  2011-09-18 12:52:22.722   \n",
       "53524    pcmcat156400050037  iphone4  2011-09-14 11:44:31.823   \n",
       "73846    pcmcat209400050001  iphone4  2011-09-23 21:16:35.857   \n",
       "114337   pcmcat209400050001  iphone4  2011-10-19 08:43:38.741   \n",
       "...                     ...      ...                      ...   \n",
       "1753384  pcmcat209400050001  iphone4  2011-10-04 20:20:38.061   \n",
       "1770534        abcat0208009  iphone4  2011-09-18 10:32:08.376   \n",
       "1791255  pcmcat209400050001  iphone4  2011-09-18 22:43:18.338   \n",
       "1828251  pcmcat209400050001  iphone4  2011-09-18 20:08:30.346   \n",
       "1845736        abcat0208009  iphone4  2011-09-20 14:58:12.971   \n",
       "\n",
       "                      query_time  \n",
       "2625     2011-10-10 10:05:29.338  \n",
       "7077     2011-09-18 12:50:53.253  \n",
       "53524     2011-09-14 11:42:36.17  \n",
       "73846    2011-09-23 21:15:29.667  \n",
       "114337   2011-10-19 08:42:17.457  \n",
       "...                          ...  \n",
       "1753384  2011-10-04 20:19:46.191  \n",
       "1770534  2011-09-18 10:31:29.198  \n",
       "1791255  2011-09-18 22:41:27.856  \n",
       "1828251  2011-09-18 20:07:19.007  \n",
       "1845736  2011-09-20 14:58:01.166  \n",
       "\n",
       "[77 rows x 6 columns]"
      ]
     },
     "execution_count": 14,
     "metadata": {},
     "output_type": "execute_result"
    }
   ],
   "source": [
    "prior_clicks_for_query = priors_gb.get_group(user_query)\n",
    "prior_clicks_for_query"
   ]
  },
  {
   "cell_type": "code",
   "execution_count": 15,
   "id": "2eba79cf-800f-4596-8b90-6929bd599da6",
   "metadata": {},
   "outputs": [
    {
     "data": {
      "text/plain": [
       "77"
      ]
     },
     "execution_count": 15,
     "metadata": {},
     "output_type": "execute_result"
    }
   ],
   "source": [
    "n_query = len(prior_clicks_for_query)\n",
    "n_query"
   ]
  },
  {
   "cell_type": "code",
   "execution_count": 24,
   "id": "48e6bc19-2bf5-4132-8391-e60526b1ca74",
   "metadata": {},
   "outputs": [
    {
     "data": {
      "text/html": [
       "<div>\n",
       "<style scoped>\n",
       "    .dataframe tbody tr th:only-of-type {\n",
       "        vertical-align: middle;\n",
       "    }\n",
       "\n",
       "    .dataframe tbody tr th {\n",
       "        vertical-align: top;\n",
       "    }\n",
       "\n",
       "    .dataframe thead th {\n",
       "        text-align: right;\n",
       "    }\n",
       "</style>\n",
       "<table border=\"1\" class=\"dataframe\">\n",
       "  <thead>\n",
       "    <tr style=\"text-align: right;\">\n",
       "      <th></th>\n",
       "      <th>weight</th>\n",
       "    </tr>\n",
       "    <tr>\n",
       "      <th>sku</th>\n",
       "      <th></th>\n",
       "    </tr>\n",
       "  </thead>\n",
       "  <tbody>\n",
       "    <tr>\n",
       "      <th>1039267</th>\n",
       "      <td>0.012987</td>\n",
       "    </tr>\n",
       "    <tr>\n",
       "      <th>1048998</th>\n",
       "      <td>0.025974</td>\n",
       "    </tr>\n",
       "    <tr>\n",
       "      <th>1049078</th>\n",
       "      <td>0.103896</td>\n",
       "    </tr>\n",
       "    <tr>\n",
       "      <th>1049087</th>\n",
       "      <td>0.025974</td>\n",
       "    </tr>\n",
       "    <tr>\n",
       "      <th>1049236</th>\n",
       "      <td>0.194805</td>\n",
       "    </tr>\n",
       "  </tbody>\n",
       "</table>\n",
       "</div>"
      ],
      "text/plain": [
       "           weight\n",
       "sku              \n",
       "1039267  0.012987\n",
       "1048998  0.025974\n",
       "1049078  0.103896\n",
       "1049087  0.025974\n",
       "1049236  0.194805"
      ]
     },
     "execution_count": 24,
     "metadata": {},
     "output_type": "execute_result"
    }
   ],
   "source": [
    "weight_df = prior_clicks_for_query.groupby('sku').agg(\n",
    "    weight = pd.NamedAgg('sku', 'count'),\n",
    ")/n_query\n",
    "weight_df.head()"
   ]
  },
  {
   "cell_type": "code",
   "execution_count": null,
   "id": "da01b3ee-2ba9-4245-b96e-f3cbd82ba5fb",
   "metadata": {},
   "outputs": [],
   "source": [
    "click_prior = \" \".join([str(sku)+\"^\"+str(sku_click_count/query_count) for sku,sku_click_count in filtered_count])            "
   ]
  },
  {
   "cell_type": "code",
   "execution_count": 34,
   "id": "ebb96a6e-6835-4d31-a2a5-218518197c26",
   "metadata": {},
   "outputs": [
    {
     "data": {
      "text/plain": [
       "'1039267^0.01299 1048998^0.02597 1049078^0.1039 1049087^0.02597 1049236^0.19481 1113847^0.01299 1230537^0.1039 1324138^0.01299 1401749^0.01299 1535918^0.01299 1799127^0.01299 1934448^0.01299 1945595^0.01299 2024814^0.03896 2266061^0.01299 2404316^0.01299 2629904^0.01299 2643427^0.01299 2645425^0.01299 2730196^0.01299 2769018^0.01299 2833769^0.01299 3291276^0.01299 3370267^0.02597 3487648^0.01299 3487784^0.02597 3514142^0.01299 3562379^0.01299 3562493^0.01299 3566966^0.01299 3815041^0.01299 3815157^0.01299 3825048^0.02597 3825057^0.02597 8439852^0.03896 8732794^0.01299 9225377^0.01299 9867608^0.01299 9955611^0.01299'"
      ]
     },
     "execution_count": 34,
     "metadata": {},
     "output_type": "execute_result"
    }
   ],
   "source": [
    "clicks_prior = \" \".join([f'{sku}^{np.round(w, 5)}' for (sku, w) in weight_df.to_records()])\n",
    "clicks_prior"
   ]
  },
  {
   "cell_type": "code",
   "execution_count": null,
   "id": "b1d1b0e5-acdb-4a11-b6c7-a8af2c7bf555",
   "metadata": {},
   "outputs": [],
   "source": []
  }
 ],
 "metadata": {
  "kernelspec": {
   "display_name": "Python 3 (ipykernel)",
   "language": "python",
   "name": "python3"
  },
  "language_info": {
   "codemirror_mode": {
    "name": "ipython",
    "version": 3
   },
   "file_extension": ".py",
   "mimetype": "text/x-python",
   "name": "python",
   "nbconvert_exporter": "python",
   "pygments_lexer": "ipython3",
   "version": "3.9.13"
  }
 },
 "nbformat": 4,
 "nbformat_minor": 5
}
